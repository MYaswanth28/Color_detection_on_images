{
 "cells": [
  {
   "cell_type": "code",
   "execution_count": 1,
   "metadata": {},
   "outputs": [
    {
     "ename": "",
     "evalue": "",
     "output_type": "error",
     "traceback": [
      "\u001b[1;31mCannot execute code, session has been disposed. Please try restarting the Kernel."
     ]
    },
    {
     "ename": "",
     "evalue": "",
     "output_type": "error",
     "traceback": [
      "\u001b[1;31mThe Kernel crashed while executing code in the the current cell or a previous cell. Please review the code in the cell(s) to identify a possible cause of the failure. Click <a href='https://aka.ms/vscodeJupyterKernelCrash'>here</a> for more info. View Jupyter <a href='command:jupyter.viewOutput'>log</a> for further details."
     ]
    }
   ],
   "source": [
    "import numpy as np\n",
    "import cv2\n",
    "#Displaying Image \n",
    "img = cv2.imread(r\"red.jpg\")\n",
    "def empty(a):\n",
    "    pass\n",
    "#Defining Color Values \n",
    "#Trackbar --> Finding Maximum , Minimum Values of the color \n",
    "cv2.namedWindow(\"TrackBars\")\n",
    "cv2.resizeWindow(\"TrackBars\", 640, 240)\n",
    "cv2.createTrackbar(\"Hue Min\", \"TrackBars\", 0, 179, empty)\n",
    "cv2.createTrackbar(\"Hue Max\", \"TrackBars\", 19, 179, empty)\n",
    "cv2.createTrackbar(\"Saturation Min\", \"TrackBars\", 110, 255, empty)\n",
    "cv2.createTrackbar(\"Saturation Max\", \"TrackBars\", 240, 255, empty)\n",
    "cv2.createTrackbar(\"Value Min\", \"TrackBars\", 153, 255, empty)\n",
    "cv2.createTrackbar(\"Value Max\", \"TrackBars\", 255, 255, empty)\n",
    "\n",
    "# Flag to check if the window is created\n",
    "window_created = False\n",
    "\n",
    "while True:\n",
    "    img = cv2.imread(r\"red.jpg\")\n",
    "    #converting to hsv space \n",
    "    imgHSV = cv2.cvtColor(img, cv2.COLOR_BGR2HSV)\n",
    "    #Reading Track Bar Values and Applying on Image\n",
    "    #get values\n",
    "    # Check if the window is created\n",
    "    if not window_created:\n",
    "        cv2.imshow(\"Original Image\", img)\n",
    "        cv2.imshow('HSV IMAGE', imgHSV)\n",
    "        window_created = True\n",
    "    \n",
    "    hmin = cv2.getTrackbarPos(\"Hue Min\", \"TrackBars\")\n",
    "    smin = cv2.getTrackbarPos(\"Saturation Min\", \"TrackBars\")\n",
    "    vmin = cv2.getTrackbarPos(\"Value Min\", \"TrackBars\")\n",
    "    hmax = cv2.getTrackbarPos(\"Hue Max\", \"TrackBars\")\n",
    "    smax = cv2.getTrackbarPos(\"Saturation Max\", \"TrackBars\")\n",
    "    vmax = cv2.getTrackbarPos(\"Value Max\", \"TrackBars\")\n",
    "    lower = np.array([hmin, smin, vmin])\n",
    "    upper = np.array([hmax, smax, vmax])\n",
    "#create mask\n",
    "    mask = cv2.inRange(imgHSV, lower, upper)\n",
    "    imgR = cv2.bitwise_and(img, img, mask=mask)\n",
    "    \n",
    "    cv2.imshow('Mask', mask)\n",
    "    cv2.imshow(\"Result\", imgR)\n",
    "    \n",
    "    if cv2.waitKey(1) & 0xFF == ord('q'):\n",
    "        break\n",
    "\n",
    "cv2.destroyAllWindows()\n"
   ]
  }
 ],
 "metadata": {
  "kernelspec": {
   "display_name": "Python 3",
   "language": "python",
   "name": "python3"
  },
  "language_info": {
   "codemirror_mode": {
    "name": "ipython",
    "version": 3
   },
   "file_extension": ".py",
   "mimetype": "text/x-python",
   "name": "python",
   "nbconvert_exporter": "python",
   "pygments_lexer": "ipython3",
   "version": "3.11.4"
  },
  "orig_nbformat": 4
 },
 "nbformat": 4,
 "nbformat_minor": 2
}
